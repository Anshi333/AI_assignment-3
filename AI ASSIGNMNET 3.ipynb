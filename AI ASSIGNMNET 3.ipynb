{
  "nbformat": 4,
  "nbformat_minor": 0,
  "metadata": {
    "colab": {
      "provenance": [],
      "authorship_tag": "ABX9TyMi/AgEX1TEOIMFmYHJYQOQ",
      "include_colab_link": true
    },
    "kernelspec": {
      "name": "python3",
      "display_name": "Python 3"
    },
    "language_info": {
      "name": "python"
    }
  },
  "cells": [
    {
      "cell_type": "markdown",
      "metadata": {
        "id": "view-in-github",
        "colab_type": "text"
      },
      "source": [
        "<a href=\"https://colab.research.google.com/github/Anshi333/AI_assignment-3/blob/main/AI%20ASSIGNMNET%203.ipynb\" target=\"_parent\"><img src=\"https://colab.research.google.com/assets/colab-badge.svg\" alt=\"Open In Colab\"/></a>"
      ]
    },
    {
      "cell_type": "code",
      "execution_count": 54,
      "metadata": {
        "id": "P6fi1eqEze9T"
      },
      "outputs": [],
      "source": [
        "# Importing libraries\n",
        "import numpy as np\n",
        "import pandas as pd\n",
        "import seaborn as sns\n",
        "import spacy\n",
        "import matplotlib.pyplot as plt\n",
        "from sklearn.model_selection import train_test_split\n",
        "from sklearn.linear_model import LinearRegression, LogisticRegression\n",
        "from sklearn.tree import DecisionTreeClassifier\n",
        "from sklearn.svm import SVC\n",
        "from sklearn.naive_bayes import MultinomialNB\n",
        "from sklearn.feature_extraction.text import TfidfVectorizer\n",
        "from sklearn.metrics import accuracy_score,mean_squared_error, r2_score, classification_report, confusion_matrix\n",
        "from sklearn import datasets\n",
        "from sklearn.preprocessing import StandardScaler\n",
        "from sklearn.pipeline import make_pipeline\n",
        "from gensim.models import Word2Vec\n",
        "from sklearn.ensemble import RandomForestClassifier\n",
        "from gensim.models import KeyedVectors\n",
        "from nltk.stem import WordNetLemmatizer\n",
        "from tensorflow.keras.datasets import imdb\n",
        "from tensorflow.keras.preprocessing.sequence import pad_sequences\n",
        "from tensorflow.keras.models import Sequential\n",
        "from tensorflow.keras.layers import Embedding, LSTM, Dense\n",
        "from sklearn.feature_extraction.text import TfidfVectorizer\n",
        "from gensim.models import Word2Vec"
      ]
    },
    {
      "cell_type": "markdown",
      "source": [
        "#Loding dataset"
      ],
      "metadata": {
        "id": "dn5FOx8d1WS5"
      }
    },
    {
      "cell_type": "code",
      "source": [
        "# Loading the wine dataset\n",
        "wine = datasets.load_wine()\n",
        "wine_df = pd.DataFrame(data=np.c_[wine['data'], wine['target']], columns=wine['feature_names'] + ['target'])"
      ],
      "metadata": {
        "id": "QA49_KtD07Fa"
      },
      "execution_count": 2,
      "outputs": []
    },
    {
      "cell_type": "markdown",
      "source": [
        "#Spliting Dataset -- feature-target & train-test -- split"
      ],
      "metadata": {
        "id": "LylEzYPU1Zqs"
      }
    },
    {
      "cell_type": "code",
      "source": [
        "# Split the data into features and target\n",
        "X = wine_df.drop('target', axis=1)\n",
        "y = wine_df['target']\n"
      ],
      "metadata": {
        "id": "wCn7H1m5068_"
      },
      "execution_count": 3,
      "outputs": []
    },
    {
      "cell_type": "code",
      "source": [
        "# Split the data into training and testing sets\n",
        "X_train, X_test, y_train, y_test = train_test_split(X, y, test_size=0.2, random_state=42)"
      ],
      "metadata": {
        "id": "ubYULv3606z2"
      },
      "execution_count": 4,
      "outputs": []
    },
    {
      "cell_type": "markdown",
      "source": [
        "#Appying algorithms"
      ],
      "metadata": {
        "id": "4e7FlnvG1nfe"
      }
    },
    {
      "cell_type": "markdown",
      "source": [
        "1. Linear Regression"
      ],
      "metadata": {
        "id": "-MVikYKCSibl"
      }
    },
    {
      "cell_type": "code",
      "source": [
        "# 1. Linear Regression\n",
        "print(\"Linear Regression:\")\n",
        "linear_reg_model = LinearRegression()\n",
        "linear_reg_model.fit(X_train, y_train)\n",
        "y_predictions = linear_reg_model.predict(X_test)\n",
        "\n",
        "# Evaluate the performance\n",
        "linear_reg_accuracy = linear_reg_model.score(X_test, y_test)\n",
        "mse = mean_squared_error(y_test, y_predictions)\n",
        "r2 = r2_score(y_test, y_predictions)\n",
        "\n",
        "print(\"Accuracy:\", linear_reg_accuracy)\n",
        "print(\"Mean Squared Error:\", mse)\n",
        "print(\"R-squared:\", r2)"
      ],
      "metadata": {
        "colab": {
          "base_uri": "https://localhost:8080/"
        },
        "id": "cQ98kuAD1ygg",
        "outputId": "be63a5b8-94c6-4d09-a13f-5b6b6a69b5e6"
      },
      "execution_count": 8,
      "outputs": [
        {
          "output_type": "stream",
          "name": "stdout",
          "text": [
            "Linear Regression:\n",
            "Accuracy: 0.8825140263270391\n",
            "Mean Squared Error: 0.06853348464256047\n",
            "R-squared: 0.8825140263270391\n"
          ]
        }
      ]
    },
    {
      "cell_type": "markdown",
      "source": [
        "2. Logistic Regression"
      ],
      "metadata": {
        "id": "2fr2MEMKSnJ1"
      }
    },
    {
      "cell_type": "code",
      "source": [
        "# 2. Logistic Regression\n",
        "print(\"\\nLogistic Regression:\")\n",
        "logistic_reg_model = LogisticRegression(max_iter=10000)\n",
        "logistic_reg_model.fit(X_train, y_train)\n",
        "y_predictions = logistic_reg_model.predict(X_test)\n",
        "\n",
        "# Evaluate the performance\n",
        "accuracy = accuracy_score(y_test, y_predictions)*100\n",
        "classification_rep = classification_report(y_test, y_predictions)\n",
        "confusion_mat = confusion_matrix(y_test, y_predictions)\n",
        "\n",
        "print(\"Accuracy:\", accuracy)\n",
        "print(\"\\nClassification Report:\\n\", classification_rep)\n",
        "print(\"\\nConfusion Matrix:\\n\", confusion_mat)\n",
        "\n",
        "# Plot confusion matrix\n",
        "plt.figure(figsize=(8, 6))\n",
        "sns.heatmap(confusion_mat, annot=True, fmt='d', cmap='Purples', xticklabels=wine.target_names, yticklabels=wine.target_names)\n",
        "plt.xlabel('Predicted')\n",
        "plt.ylabel('Actual')\n",
        "plt.title('Confusion Matrix for Logistic Regression')\n",
        "plt.show()"
      ],
      "metadata": {
        "colab": {
          "base_uri": "https://localhost:8080/",
          "height": 911
        },
        "id": "7efUe1p_3TF9",
        "outputId": "ce6fc68a-ac52-485c-ab54-0d31186bf6dd"
      },
      "execution_count": 30,
      "outputs": [
        {
          "output_type": "stream",
          "name": "stdout",
          "text": [
            "\n",
            "Logistic Regression:\n",
            "Accuracy: 100.0\n",
            "\n",
            "Classification Report:\n",
            "               precision    recall  f1-score   support\n",
            "\n",
            "         0.0       1.00      1.00      1.00        14\n",
            "         1.0       1.00      1.00      1.00        14\n",
            "         2.0       1.00      1.00      1.00         8\n",
            "\n",
            "    accuracy                           1.00        36\n",
            "   macro avg       1.00      1.00      1.00        36\n",
            "weighted avg       1.00      1.00      1.00        36\n",
            "\n",
            "\n",
            "Confusion Matrix:\n",
            " [[14  0  0]\n",
            " [ 0 14  0]\n",
            " [ 0  0  8]]\n"
          ]
        },
        {
          "output_type": "display_data",
          "data": {
            "text/plain": [
              "<Figure size 800x600 with 2 Axes>"
            ],
            "image/png": "[encoded data removed]"
          },
          "metadata": {}
        }
      ]
    },
    {
      "cell_type": "markdown",
      "source": [
        "3. Decision Tree"
      ],
      "metadata": {
        "id": "ajW1ortBStEa"
      }
    },
    {
      "cell_type": "code",
      "source": [
        "# 3. Decision Tree\n",
        "print(\"\\nDecision Tree:\")\n",
        "decision_tree_model = DecisionTreeClassifier()\n",
        "decision_tree_model.fit(X_train, y_train)\n",
        "y_predictions = decision_tree_model.predict(X_test)\n",
        "\n",
        "# Evaluate the performance\n",
        "accuracy = accuracy_score(y_test, y_predictions)*100\n",
        "classification_rep = classification_report(y_test, y_predictions)\n",
        "confusion_mat = confusion_matrix(y_test, y_predictions)\n",
        "\n",
        "print(\"Accuracy:\", accuracy)\n",
        "print(\"\\nClassification Report:\\n\", classification_rep)\n",
        "print(\"\\nConfusion Matrix:\\n\", confusion_mat)\n",
        "\n",
        "# Plot confusion matrix\n",
        "plt.figure(figsize=(8, 6))\n",
        "sns.heatmap(confusion_mat, annot=True, fmt='d', cmap='Blues', xticklabels=wine.target_names, yticklabels=wine.target_names)\n",
        "plt.xlabel('Predicted')\n",
        "plt.ylabel('Actual')\n",
        "plt.title('Confusion Matrix for Decision Tree')\n",
        "plt.show()"
      ],
      "metadata": {
        "colab": {
          "base_uri": "https://localhost:8080/",
          "height": 911
        },
        "id": "sIqKT89z4KuN",
        "outputId": "be908e4f-4bbf-483a-dc6c-b906dbaabdc8"
      },
      "execution_count": 28,
      "outputs": [
        {
          "output_type": "stream",
          "name": "stdout",
          "text": [
            "\n",
            "Decision Tree:\n",
            "Accuracy: 94.44444444444444\n",
            "\n",
            "Classification Report:\n",
            "               precision    recall  f1-score   support\n",
            "\n",
            "         0.0       0.93      0.93      0.93        14\n",
            "         1.0       0.93      1.00      0.97        14\n",
            "         2.0       1.00      0.88      0.93         8\n",
            "\n",
            "    accuracy                           0.94        36\n",
            "   macro avg       0.95      0.93      0.94        36\n",
            "weighted avg       0.95      0.94      0.94        36\n",
            "\n",
            "\n",
            "Confusion Matrix:\n",
            " [[13  1  0]\n",
            " [ 0 14  0]\n",
            " [ 1  0  7]]\n"
          ]
        },
        {
          "output_type": "display_data",
          "data": {
            "text/plain": [
              "<Figure size 800x600 with 2 Axes>"
            ],
            "image/png": "[encoded data removed]"
          },
          "metadata": {}
        }
      ]
    },
    {
      "cell_type": "markdown",
      "source": [
        "4. SVM"
      ],
      "metadata": {
        "id": "D7T5lYyPSvDo"
      }
    },
    {
      "cell_type": "code",
      "source": [
        "# 4. SVM\n",
        "print(\"\\nSVM:\")\n",
        "svm_model = SVC()\n",
        "svm_model.fit(X_train, y_train)\n",
        "y_predictions = svm_model.predict(X_test)\n",
        "\n",
        "# Evaluate the performance\n",
        "accuracy = accuracy_score(y_test, y_predictions)*100\n",
        "classification_rep = classification_report(y_test, y_predictions)\n",
        "confusion_mat = confusion_matrix(y_test, y_predictions)\n",
        "\n",
        "print(\"Accuracy:\", accuracy)\n",
        "print(\"\\nClassification Report:\\n\", classification_rep)\n",
        "print(\"\\nConfusion Matrix:\\n\", confusion_mat)\n",
        "\n",
        "# Plot confusion matrix\n",
        "plt.figure(figsize=(8, 6))\n",
        "sns.heatmap(confusion_mat, annot=True, fmt='d', cmap='Reds', xticklabels=wine.target_names, yticklabels=wine.target_names)\n",
        "plt.xlabel('Predicted')\n",
        "plt.ylabel('Actual')\n",
        "plt.title('Confusion Matrix for SVM')\n",
        "plt.show()"
      ],
      "metadata": {
        "colab": {
          "base_uri": "https://localhost:8080/",
          "height": 911
        },
        "id": "ubMFbUdN7Vu7",
        "outputId": "ff6a14eb-1d54-4b93-9586-36b04bc96cba"
      },
      "execution_count": 29,
      "outputs": [
        {
          "output_type": "stream",
          "name": "stdout",
          "text": [
            "\n",
            "SVM:\n",
            "Accuracy: 80.55555555555556\n",
            "\n",
            "Classification Report:\n",
            "               precision    recall  f1-score   support\n",
            "\n",
            "         0.0       1.00      1.00      1.00        14\n",
            "         1.0       0.73      0.79      0.76        14\n",
            "         2.0       0.57      0.50      0.53         8\n",
            "\n",
            "    accuracy                           0.81        36\n",
            "   macro avg       0.77      0.76      0.76        36\n",
            "weighted avg       0.80      0.81      0.80        36\n",
            "\n",
            "\n",
            "Confusion Matrix:\n",
            " [[14  0  0]\n",
            " [ 0 11  3]\n",
            " [ 0  4  4]]\n"
          ]
        },
        {
          "output_type": "display_data",
          "data": {
            "text/plain": [
              "<Figure size 800x600 with 2 Axes>"
            ],
            "image/png": "[encoded data removed]"
          },
          "metadata": {}
        }
      ]
    },
    {
      "cell_type": "markdown",
      "source": [
        "5. Naive-Bayes Algorithm"
      ],
      "metadata": {
        "id": "1Z2pQnFbSy2q"
      }
    },
    {
      "cell_type": "code",
      "source": [
        "# 5. Naive-Bayes Algorithm\n",
        "print(\"\\nNaive-Bayes Algorithm:\")\n",
        "nb_model = MultinomialNB()\n",
        "nb_model.fit(X_train, y_train)\n",
        "nb_predictions = nb_model.predict(X_test)\n",
        "\n",
        "# Evaluate the performance\n",
        "accuracy = accuracy_score(y_test, nb_predictions)*100\n",
        "classification_rep = classification_report(y_test,nb_predictions)\n",
        "confusion_mat = confusion_matrix(y_test,nb_predictions)\n",
        "\n",
        "print(\"Accuracy:\", accuracy)\n",
        "print(\"\\nClassification Report:\\n\", classification_rep)\n",
        "print(\"\\nConfusion Matrix:\\n\", confusion_mat)\n",
        "\n",
        "# Plot confusion matrix\n",
        "plt.figure(figsize=(8, 6))\n",
        "sns.heatmap(confusion_mat, annot=True, fmt='d', cmap='Greens', xticklabels=wine.target_names, yticklabels=wine.target_names)\n",
        "plt.xlabel('Predicted')\n",
        "plt.ylabel('Actual')\n",
        "plt.title('Confusion Matrix for Naive-Bayes Algorithm')\n",
        "plt.show()"
      ],
      "metadata": {
        "colab": {
          "base_uri": "https://localhost:8080/",
          "height": 911
        },
        "id": "DFaKCK6T7Y2x",
        "outputId": "3b6fa0e4-10f7-4609-f629-6158e8d05d13"
      },
      "execution_count": 31,
      "outputs": [
        {
          "output_type": "stream",
          "name": "stdout",
          "text": [
            "\n",
            "Naive-Bayes Algorithm:\n",
            "Accuracy: 88.88888888888889\n",
            "\n",
            "Classification Report:\n",
            "               precision    recall  f1-score   support\n",
            "\n",
            "         0.0       0.88      1.00      0.93        14\n",
            "         1.0       0.93      0.93      0.93        14\n",
            "         2.0       0.83      0.62      0.71         8\n",
            "\n",
            "    accuracy                           0.89        36\n",
            "   macro avg       0.88      0.85      0.86        36\n",
            "weighted avg       0.89      0.89      0.88        36\n",
            "\n",
            "\n",
            "Confusion Matrix:\n",
            " [[14  0  0]\n",
            " [ 0 13  1]\n",
            " [ 2  1  5]]\n"
          ]
        },
        {
          "output_type": "display_data",
          "data": {
            "text/plain": [
              "<Figure size 800x600 with 2 Axes>"
            ],
            "image/png": "[encoded data removed]"
          },
          "metadata": {}
        }
      ]
    },
    {
      "cell_type": "markdown",
      "source": [
        "#For text based algorithms"
      ],
      "metadata": {
        "id": "GwXvuzR7FLc0"
      }
    },
    {
      "cell_type": "markdown",
      "source": [
        "Loading Dataset"
      ],
      "metadata": {
        "id": "cR6HE0CyFY8f"
      }
    },
    {
      "cell_type": "code",
      "source": [
        "# Load IMDb movie reviews dataset\n",
        "(x_train, y_train), (x_test, y_test) = imdb.load_data(num_words=10000)\n",
        "\n",
        "num_samples = 800\n",
        "x_train = x_train[:num_samples]\n",
        "y_train = y_train[:num_samples]\n",
        "x_test = x_test[:num_samples]\n",
        "y_test = y_test[:num_samples]\n",
        "\n",
        "\n",
        "# Convert sequences back to text\n",
        "def sequences_to_texts(sequences):\n",
        "    word_index = imdb.get_word_index()\n",
        "    reverse_word_index = dict([(value, key) for (key, value) in word_index.items()])\n",
        "    return ' '.join([reverse_word_index.get(i - 3, '?') for i in sequences])\n",
        "\n",
        "# Convert sequences to text\n",
        "x_train_text = [sequences_to_texts(seq) for seq in x_train]\n",
        "x_test_text = [sequences_to_texts(seq) for seq in x_test]"
      ],
      "metadata": {
        "id": "cwtj2Eh4FcSy"
      },
      "execution_count": 43,
      "outputs": []
    },
    {
      "cell_type": "markdown",
      "source": [
        "Train-Test Split"
      ],
      "metadata": {
        "id": "so_wfjPIFmxM"
      }
    },
    {
      "cell_type": "code",
      "source": [
        "# Ensure y_train has the same length as x_train_text\n",
        "y_train = y_train[:len(x_train_text)]\n",
        "\n",
        "# Split the data into training and validation sets\n",
        "x_train, x_val, y_train, y_val = train_test_split(x_train_text, y_train, test_size=0.2, stratify=y_train, random_state=42)"
      ],
      "metadata": {
        "id": "zpsYHOSvFpsc"
      },
      "execution_count": 44,
      "outputs": []
    },
    {
      "cell_type": "markdown",
      "source": [
        "6. TF-IDF"
      ],
      "metadata": {
        "id": "sOaG86WMS2OZ"
      }
    },
    {
      "cell_type": "code",
      "source": [
        "# 6. TF-IDF\n",
        "vectorizer = TfidfVectorizer(max_features=10000, ngram_range=(1, 2), stop_words='english')\n",
        "x_train_tfidf = vectorizer.fit_transform(x_train)\n",
        "x_val_tfidf = vectorizer.transform(x_val)\n",
        "x_test_tfidf = vectorizer.transform(x_test_text)\n",
        "\n",
        "# Logistic Regression (as an example)\n",
        "logistic_reg_model = LogisticRegression(max_iter=10000)\n",
        "logistic_reg_model.fit(x_train_tfidf, y_train)\n",
        "\n",
        "# Predictions\n",
        "y_val_pred = logistic_reg_model.predict(x_val_tfidf)\n",
        "y_test_pred = logistic_reg_model.predict(x_test_tfidf)\n",
        "\n",
        "# Evaluate the model\n",
        "val_accuracy = accuracy_score(y_val, y_val_pred)*100\n",
        "test_accuracy = accuracy_score(y_test, y_test_pred)*100\n",
        "\n",
        "print(\"Validation Accuracy:\", val_accuracy)\n",
        "print(\"Test Accuracy:\", test_accuracy)\n"
      ],
      "metadata": {
        "colab": {
          "base_uri": "https://localhost:8080/"
        },
        "id": "M5LDmZEK86h_",
        "outputId": "51832de4-c37d-4f27-d5aa-656046cd7661"
      },
      "execution_count": 46,
      "outputs": [
        {
          "output_type": "stream",
          "name": "stdout",
          "text": [
            "Validation Accuracy: 74.375\n",
            "Test Accuracy: 75.625\n"
          ]
        }
      ]
    },
    {
      "cell_type": "markdown",
      "source": [
        "7. Word2Vec"
      ],
      "metadata": {
        "id": "mhfZFmAuS8K4"
      }
    },
    {
      "cell_type": "code",
      "source": [
        "# 7. Word2Vec\n",
        "# Tokenize the text\n",
        "tokenized_x_train = [text.split() for text in x_train]\n",
        "tokenized_x_val = [text.split() for text in x_val]\n",
        "tokenized_x_test = [text.split() for text in x_test_text]\n",
        "\n",
        "# Train model\n",
        "word2vec_model = Word2Vec(sentences=tokenized_x_train, vector_size=100, window=5, min_count=1, workers=4)\n",
        "\n",
        "# Transform each text sequence into the average Word2Vec vector\n",
        "def text_to_avg_vector(text, model):\n",
        "    words = text.split()\n",
        "    vectors = [model.wv[word] for word in words if word in model.wv]\n",
        "    if vectors:\n",
        "        return np.mean(vectors, axis=0)\n",
        "    else:\n",
        "        # If no word in the model, return a zero vector\n",
        "        return np.zeros(model.vector_size)\n",
        "\n",
        "# Create Word2Vec vectors for training, validation, and test sets\n",
        "x_train_w2v = np.array([text_to_avg_vector(text, word2vec_model) for text in x_train])\n",
        "x_val_w2v = np.array([text_to_avg_vector(text, word2vec_model) for text in x_val])\n",
        "x_test_w2v = np.array([text_to_avg_vector(text, word2vec_model) for text in x_test_text])\n",
        "\n",
        "print(\"Word2Vec Vector for the first training sample:\")\n",
        "print(x_train_w2v[0])\n",
        "\n",
        "# Train a Logistic Regression model\n",
        "logistic_reg_model = LogisticRegression(max_iter=10000)\n",
        "logistic_reg_model.fit(x_train_w2v, y_train)\n",
        "\n",
        "# Predictions\n",
        "y_val_pred = logistic_reg_model.predict(x_val_w2v)\n",
        "y_test_pred = logistic_reg_model.predict(x_test_w2v)\n",
        "\n",
        "# Evaluations\n",
        "val_accuracy = accuracy_score(y_val, y_val_pred)\n",
        "test_accuracy = accuracy_score(y_test, y_test_pred)\n",
        "\n",
        "print(\"Validation Accuracy:\", val_accuracy)\n",
        "print(\"Test Accuracy:\", test_accuracy)"
      ],
      "metadata": {
        "colab": {
          "base_uri": "https://localhost:8080/"
        },
        "id": "JMCuvhQq01WS",
        "outputId": "f4b4b318-7958-4104-9ae1-cefcb5763895"
      },
      "execution_count": 51,
      "outputs": [
        {
          "output_type": "stream",
          "name": "stdout",
          "text": [
            "Word2Vec Vector for the first training sample:\n",
            "[-2.60501623e-01  4.89944994e-01 -1.15960259e-02 -6.04879223e-02\n",
            "  3.98613393e-01 -1.03533506e+00  3.38087022e-01  1.08836424e+00\n",
            " -5.99113941e-01 -5.78586340e-01 -1.73153341e-01 -8.38200688e-01\n",
            " -1.49700359e-01  3.83061469e-01  1.82681516e-01 -1.25428364e-02\n",
            "  3.31148237e-01 -2.93763876e-01 -1.41859157e-02 -1.30763495e+00\n",
            "  3.01563978e-01 -1.14891119e-01  4.41047132e-01 -3.78908157e-01\n",
            "  1.59175664e-01 -1.04198039e-01 -4.55585986e-01 -2.97838926e-01\n",
            " -5.46399176e-01  1.34140804e-01  7.74273455e-01  1.03775136e-01\n",
            "  2.39452675e-01 -5.81916392e-01 -2.40499631e-01  3.42463076e-01\n",
            "  1.17301486e-01 -4.37567800e-01 -2.06364200e-01 -8.88861060e-01\n",
            "  5.41002691e-01 -5.66793978e-01 -7.35568330e-02  1.69497386e-01\n",
            "  4.46635097e-01 -3.34588677e-01 -5.43828368e-01 -2.48461679e-01\n",
            "  1.97265580e-01  5.92321277e-01  2.28874326e-01 -4.72556829e-01\n",
            " -6.96529523e-02 -1.81918323e-01 -3.73103946e-01  1.79906309e-01\n",
            "  3.86913300e-01 -5.39616421e-02 -6.00209355e-01  1.07127085e-01\n",
            "  1.73816845e-01  9.39393863e-02  2.78820455e-01  1.46966025e-01\n",
            " -6.21222973e-01  5.87084353e-01  1.26908034e-01  5.40080249e-01\n",
            " -7.35086858e-01  5.84728718e-01 -1.14134490e-01  2.68117994e-01\n",
            "  6.04494929e-01 -2.97736563e-02  8.78164768e-01  2.90642176e-02\n",
            "  2.09422544e-01  1.48130819e-01 -2.29743838e-01  5.08208573e-02\n",
            " -5.86160004e-01 -9.93738994e-02 -9.04813111e-01  5.72168469e-01\n",
            " -1.45271391e-01 -3.55903685e-01  3.47446501e-01  3.12496543e-01\n",
            "  4.89779234e-01 -1.20251509e-03  6.80373073e-01  3.37084591e-01\n",
            "  8.53467062e-02 -1.40245529e-02  8.33845973e-01  3.79128397e-01\n",
            "  2.02334374e-01 -3.50347757e-01  1.58321306e-01  1.26104876e-01]\n",
            "Validation Accuracy: 0.48125\n",
            "Test Accuracy: 0.5625\n"
          ]
        }
      ]
    },
    {
      "cell_type": "markdown",
      "source": [
        "8. Glove Algorithm"
      ],
      "metadata": {
        "id": "O8daD0uCS9w0"
      }
    },
    {
      "cell_type": "code",
      "source": [
        "# 8. Glove Algorithm\n",
        "# Load pre-trained GloVe embeddings with spaCy\n",
        "nlp = spacy.load(\"en_core_web_sm\")\n",
        "\n",
        "# Transform each text sequence into the average GloVe vector\n",
        "def text_to_avg_vector(text, nlp):\n",
        "    doc = nlp(text)\n",
        "    vectors = [token.vector for token in doc]\n",
        "    if vectors:\n",
        "        return np.mean(vectors, axis=0)\n",
        "    else:\n",
        "        # If no vector is obtained, return a zero vector\n",
        "        return np.zeros(nlp.vocab.vectors_length)\n",
        "\n",
        "# Create GloVe vectors for training, validation, and test sets\n",
        "x_train_glove = np.array([text_to_avg_vector(text, nlp) for text in x_train])\n",
        "x_val_glove = np.array([text_to_avg_vector(text, nlp) for text in x_val])\n",
        "x_test_glove = np.array([text_to_avg_vector(text, nlp) for text in x_test_text])\n",
        "\n",
        "print(\"GloVe Vector for the first training sample:\")\n",
        "print(x_train_glove[0])\n",
        "\n",
        "# Train a Logistic Regression model (as an example)\n",
        "logistic_reg_model = LogisticRegression(max_iter=10000)\n",
        "logistic_reg_model.fit(x_train_glove, y_train)\n",
        "\n",
        "# Predictions\n",
        "y_val_pred = logistic_reg_model.predict(x_val_glove)\n",
        "y_test_pred = logistic_reg_model.predict(x_test_glove)\n",
        "\n",
        "# Evaluations\n",
        "val_accuracy = accuracy_score(y_val, y_val_pred)\n",
        "test_accuracy = accuracy_score(y_test, y_test_pred)\n",
        "\n",
        "print(\"Validation Accuracy:\", val_accuracy)\n",
        "print(\"Test Accuracy:\", test_accuracy)"
      ],
      "metadata": {
        "colab": {
          "base_uri": "https://localhost:8080/"
        },
        "id": "7HD2rw3F85vn",
        "outputId": "ca700e5f-a4f4-4b0a-c2ea-5f663ad5f8a4"
      },
      "execution_count": 56,
      "outputs": [
        {
          "output_type": "stream",
          "name": "stdout",
          "text": [
            "GloVe Vector for the first training sample:\n",
            "[ 1.66477233e-01 -3.17241341e-01  6.73630089e-02  1.48531750e-01\n",
            " -1.09376751e-01 -3.11614394e-01  1.01821765e-01  1.16974249e-01\n",
            "  5.95108829e-02  2.16548219e-01 -1.87735945e-01 -1.27771462e-03\n",
            " -1.16288163e-01  1.96452737e-01 -1.70024946e-01 -4.51310538e-02\n",
            "  1.72439739e-01 -1.07404636e-02 -1.90491620e-02  9.17453095e-02\n",
            "  1.08228236e-01  3.47655505e-01 -1.16071500e-01 -4.21948284e-01\n",
            "  6.69538900e-02 -2.72178262e-01  2.10364684e-01  1.10089391e-01\n",
            "  2.20819876e-01  1.13416560e-01  7.15986341e-02  8.06174129e-02\n",
            "  3.14722568e-01 -2.49378473e-01  7.42536113e-02 -2.88019985e-01\n",
            "  7.71413893e-02 -1.44667223e-01 -4.57973294e-02 -1.26399159e-01\n",
            " -3.36126745e-01  2.92700052e-01 -1.61031559e-02  2.27942586e-01\n",
            "  1.36119172e-01  1.43574357e-01 -1.36727139e-01  1.97218016e-01\n",
            " -3.18521336e-02 -4.02044579e-02 -5.20983279e-01  1.30398870e-01\n",
            " -1.23933479e-01 -9.46280733e-02 -7.38999443e-05  3.51094641e-02\n",
            "  1.25813633e-01  5.04046492e-02 -1.23174852e-02 -1.48387343e-01\n",
            "  1.19895697e-01 -2.40926877e-01  1.23705693e-01 -3.32895726e-01\n",
            "  4.75674644e-02  1.02644190e-01  4.06178921e-01 -1.97748482e-01\n",
            "  2.51880169e-01  1.91159278e-01  9.30683017e-02  1.52635664e-01\n",
            " -1.08981512e-01 -1.14664383e-01 -2.08954155e-01 -1.43874899e-01\n",
            "  2.34824970e-01 -3.96534115e-01  9.23553631e-02 -1.88236773e-01\n",
            " -9.23846960e-02 -3.38133126e-02 -2.41215587e-01 -2.91855156e-01\n",
            "  2.35546846e-02  1.31222576e-01  1.07558444e-01 -9.09205154e-02\n",
            " -4.51178014e-01  3.41915995e-01  2.68114150e-01 -3.00385743e-01\n",
            "  3.98966134e-01  3.86947691e-01 -2.67970800e-01  3.72729301e-02]\n",
            "Validation Accuracy: 0.575\n",
            "Test Accuracy: 0.6425\n"
          ]
        }
      ]
    },
    {
      "cell_type": "markdown",
      "source": [
        "9. Lemmatization - NLP\n"
      ],
      "metadata": {
        "id": "JICcUTR9TCH0"
      }
    },
    {
      "cell_type": "code",
      "source": [
        "# 9. Lemmatization - NLP\n",
        "# Load spaCy's English language model\n",
        "nlp = spacy.load(\"en_core_web_sm\")\n",
        "\n",
        "# Define a function for lemmatization\n",
        "def lemmatize_text(text, nlp):\n",
        "    doc = nlp(text)\n",
        "    lemmatized_text = ' '.join([token.lemma_ for token in doc])\n",
        "    return lemmatized_text\n",
        "\n",
        "# Example larger text\n",
        "sample_text = \"\"\"\n",
        "Natural language processing (NLP) is a subfield of artificial intelligence that focuses on the interaction between computers and humans using natural language. It involves the development of algorithms and models to understand, interpret, and generate human-like language.\n",
        "NLP tasks include text analysis, sentiment analysis, machine translation, named entity recognition, and more. One common preprocessing step in NLP is lemmatization, where words are reduced to their base or root form.\n",
        "For example, the word \"running\" would be lemmatized to \"run,\" and \"better\" would be lemmatized to \"good.\" Lemmatization helps in standardizing words, reducing vocabulary size, and improving the efficiency of text analysis.\n",
        "SpaCy is a popular library for NLP in Python that provides pre-trained models for lemmatization, part-of-speech tagging, and other tasks.\n",
        "\"\"\"\n",
        "\n",
        "# Lemmatize the larger text\n",
        "lemmatized_sample_text = lemmatize_text(sample_text, nlp)\n",
        "\n",
        "# Print the lemmatized text\n",
        "print(\"Original text:\")\n",
        "print(sample_text)\n",
        "\n",
        "print(\"\\nLemmatized text:\")\n",
        "print(lemmatized_sample_text)"
      ],
      "metadata": {
        "colab": {
          "base_uri": "https://localhost:8080/"
        },
        "id": "8bo3UMA185qL",
        "outputId": "da59bcea-3972-47f6-f416-35663a3d125e"
      },
      "execution_count": 60,
      "outputs": [
        {
          "output_type": "stream",
          "name": "stdout",
          "text": [
            "Original text:\n",
            "\n",
            "Natural language processing (NLP) is a subfield of artificial intelligence that focuses on the interaction between computers and humans using natural language. It involves the development of algorithms and models to understand, interpret, and generate human-like language.\n",
            "NLP tasks include text analysis, sentiment analysis, machine translation, named entity recognition, and more. One common preprocessing step in NLP is lemmatization, where words are reduced to their base or root form.\n",
            "For example, the word \"running\" would be lemmatized to \"run,\" and \"better\" would be lemmatized to \"good.\" Lemmatization helps in standardizing words, reducing vocabulary size, and improving the efficiency of text analysis.\n",
            "SpaCy is a popular library for NLP in Python that provides pre-trained models for lemmatization, part-of-speech tagging, and other tasks.\n",
            "\n",
            "\n",
            "Lemmatized text:\n",
            "\n",
            " natural language processing ( NLP ) be a subfield of artificial intelligence that focus on the interaction between computer and human use natural language . it involve the development of algorithm and model to understand , interpret , and generate human - like language . \n",
            " NLP task include text analysis , sentiment analysis , machine translation , name entity recognition , and more . one common preprocessing step in NLP be lemmatization , where word be reduce to their base or root form . \n",
            " for example , the word \" run \" would be lemmatize to \" run , \" and \" well \" would be lemmatize to \" good . \" lemmatization help in standardize word , reduce vocabulary size , and improve the efficiency of text analysis . \n",
            " SpaCy be a popular library for NLP in Python that provide pre - train model for lemmatization , part - of - speech tagging , and other task . \n",
            "\n"
          ]
        }
      ]
    },
    {
      "cell_type": "markdown",
      "source": [
        "10. Recurrent NN"
      ],
      "metadata": {
        "id": "FUUTStOxTFuG"
      }
    },
    {
      "cell_type": "code",
      "source": [
        "# 10. Recurrent NN\n",
        "# Load IMDb movie reviews dataset\n",
        "(x_train, y_train), (x_test, y_test) = imdb.load_data(num_words=10000)\n",
        "\n",
        "# Limit the dataset for faster execution (you can adjust this based on your resources)\n",
        "num_samples = 5000\n",
        "x_train = x_train[:num_samples]\n",
        "y_train = y_train[:num_samples]\n",
        "x_test = x_test[:num_samples]\n",
        "y_test = y_test[:num_samples]\n",
        "# Pad sequences to have the same length\n",
        "maxlen = 100\n",
        "x_train = pad_sequences(x_train, maxlen=maxlen)\n",
        "x_test = pad_sequences(x_test, maxlen=maxlen)\n",
        "\n",
        "# Define the RNN model\n",
        "model = Sequential()\n",
        "model.add(Embedding(input_dim=10000, output_dim=32, input_length=maxlen))\n",
        "model.add(LSTM(32))\n",
        "model.add(Dense(1, activation='sigmoid'))\n",
        "\n",
        "# Compile the model\n",
        "model.compile(optimizer='adam', loss='binary_crossentropy', metrics=['accuracy'])\n",
        "\n",
        "# Train the RNN model\n",
        "model.fit(x_train, y_train, epochs=5, batch_size=64, validation_split=0.2)\n",
        "\n",
        "# Evaluate the model on the test set\n",
        "test_loss, test_accuracy = model.evaluate(x_test, y_test)\n",
        "print(\"Test Accuracy:\", test_accuracy*100)"
      ],
      "metadata": {
        "colab": {
          "base_uri": "https://localhost:8080/"
        },
        "id": "t5A_bAui85lN",
        "outputId": "b512ab51-e741-4734-a451-a086128b52ee"
      },
      "execution_count": 63,
      "outputs": [
        {
          "output_type": "stream",
          "name": "stdout",
          "text": [
            "Epoch 1/5\n",
            "63/63 [==============================] - 9s 107ms/step - loss: 0.6638 - accuracy: 0.6035 - val_loss: 0.5757 - val_accuracy: 0.7430\n",
            "Epoch 2/5\n",
            "63/63 [==============================] - 4s 62ms/step - loss: 0.4304 - accuracy: 0.8232 - val_loss: 0.4328 - val_accuracy: 0.8020\n",
            "Epoch 3/5\n",
            "63/63 [==============================] - 4s 62ms/step - loss: 0.2306 - accuracy: 0.9178 - val_loss: 0.4811 - val_accuracy: 0.7920\n",
            "Epoch 4/5\n",
            "63/63 [==============================] - 5s 84ms/step - loss: 0.1228 - accuracy: 0.9640 - val_loss: 0.5411 - val_accuracy: 0.8010\n",
            "Epoch 5/5\n",
            "63/63 [==============================] - 5s 80ms/step - loss: 0.0587 - accuracy: 0.9855 - val_loss: 0.6001 - val_accuracy: 0.7870\n",
            "157/157 [==============================] - 2s 12ms/step - loss: 0.6314 - accuracy: 0.7832\n",
            "Test Accuracy: 78.32000255584717\n"
          ]
        }
      ]
    }
  ]
}